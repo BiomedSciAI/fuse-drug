{
 "cells": [
  {
   "cell_type": "markdown",
   "metadata": {},
   "source": [
    "# BindingDB and DTI tutorial\n",
    "\n",
    "BindingDB is a public, web-accessible database of measured binding affinities, focusing chiefly on the interactions of protein considered to be drug-targets with small, drug-like molecules. This is also called Drug-Target Interaction (DTI).  \n",
    "Two main applications DTI models are:\n",
    "\n",
    "1. Drug screening - Identify Ligand candidates that can bind to a protein of interest.\n",
    "2. Drug repurposing - Find new therapeutic purposes (protein targets) for an existing drug\n",
    "\n",
    "BindingDB contains about 2.4M binding reaction data samples. Each such sample contains information about the drug target (usually a Protein - a long sequence of one of 20 existing Amino Acids), the Ligand (a small molecule, that drug designers want to bind with the target), and different possible measurements of the \"binding capability\". Typically the binding is *noncovalent*, i.e - reversible, such that the binding atoms don't share electrons, but rather the binding is on a electromagnetic interaction level.\n",
    " \n",
    "In total, these 2.4M reaction samples consist of ~8,800 protein targets and 1M small molecules.\n",
    "\n",
    "A straightforward representation of this data is using a single CSV/TSV file which consists of 2.4M rows. In each row, there are columns for a SMILES string representation of the Ligand, a string representation (Amino Acid code sequence) of the target protein, binding affinity measurements and more columns for additional information such as different codes for the interaction or compounds in different databases, and more.\n",
    "This is the representation that we will explore in this tutorial. However, we note that it's also possible to download from BindingDB 2D and 3D representations of the compounds.\n",
    "\n",
    "## Measuring binding capability\n",
    "1. **Dissociation constant - $K_{D}$**  \n",
    "    Consider a solution with fixed concentrations of dissolved Ligands and Proteins, and sufficient time passes so that it reaches equilibrium. Let $[P]$, $[L]$ and $[PL]$ denote the concentration of free protein, free ligand, and bound protein, respectively, at equilibrium. Then the dissociation constant is defined: $K_{D}=\\frac{[P][L]}{[PL]}$. Or: $\\frac{K_{D}}{[L]}=\\frac{[P]}{[PL]}$. \n",
    "    So, for $K_{D}=[L]$, $[P]=[PL]$. And therefore, $\\frac{[PL]}{[P]+[PL]}=\\frac{1}{2}$.\n",
    "    Meaning, $K_{D}$ is the concentration of ligands required for half of the total protein to be bound to a ligand.  \n",
    "    A small value of $K_{D}$ means fewer ligands are required for that, so smaller value is better binding affinity. It means, a smaller dosage of the candidate drug will be required to make impact. So, less side effects etc'.\n",
    "\n",
    "2. **$IC50$**  \n",
    "    This measure of binding affinity is used in Enzyme inhibition assays. Enzymes are types of proteins targets, and the goal is to find small molecules that bind and *inhibit* them. Such molecules/drugs are called \"Enzyme Inhibitors\". For Enzymes, $K_{D}$ is usually termed $K_{i}$ (inhibition constant), but studies usually report $IC50$ instead. This is the concentration of Ligand that reduces enzyme activity by 50%. It sounds similar to the definition of $K_{D}$, but it's different because in a typical enzymatic binding assay, the inhibitor is not the only molecule trying to bind with the enzyme's active site. It competes with the enzyme's physiological substrate. So, if the concentration of substrate is very low, $IC50$ should approximate $K_{D}$, otherwise it will be greater (more ligands required to obtain 50% binding).  \n",
    "\n",
    "3. **$EC50$**  \n",
    "    This is another principally similar measure of half maximum affinity response. It is used for another type of assays in which a protein is expressed in a cell in such a way that its level of activation as a result of binding with inhibitors, can be detected. \n",
    "\n",
    "## Reading data from BindingDB\n",
    "The [DeepPurpose](https://github.com/kexinhuang12345/DeepPurpose/) open source library has a ready helper function to read data from BindingDB and perpare it for ML.\n",
    "We manually downloaded from the BindingDB website a single TSV file `BindingDB_All.tsv` containing the \\~2.4M samples mentioned earlier, and manually converted it to Pickle format, for faster reading (\\~20 seconds instead of \\~60). \n",
    "This file as well as other data subsets or 2D/3D representations on BindingDB gets updated periodically, so for the sake of reproducibility we'll mention that the one we use here was downloaded on April 26 2022."
   ]
  },
  {
   "cell_type": "code",
   "execution_count": 1,
   "metadata": {},
   "outputs": [
    {
     "name": "stderr",
     "output_type": "stream",
     "text": [
      "WARNING:root:No normalization for BCUT2D_MWHI\n",
      "WARNING:root:No normalization for BCUT2D_MWLOW\n",
      "WARNING:root:No normalization for BCUT2D_CHGHI\n",
      "WARNING:root:No normalization for BCUT2D_CHGLO\n",
      "WARNING:root:No normalization for BCUT2D_LOGPHI\n",
      "WARNING:root:No normalization for BCUT2D_LOGPLOW\n",
      "WARNING:root:No normalization for BCUT2D_MRHI\n",
      "WARNING:root:No normalization for BCUT2D_MRLOW\n"
     ]
    },
    {
     "name": "stdout",
     "output_type": "stream",
     "text": [
      "Downloading zip file:\n",
      "Downloading zip file: DONE\n",
      "Extracting zip:\n",
      "Extracting zip: DONE\n",
      "Pickling data:\n"
     ]
    },
    {
     "name": "stderr",
     "output_type": "stream",
     "text": [
      ".../lib/python3.7/site-packages/ipykernel_launcher.py:7: DtypeWarning: Columns (8,9,10,11,12,13,15,17,18,19,20,26,27,31,32,34,35,39,40,41,42,46,49,50,51,52,53,54,61,62,63,64,65,66,73,74,75,76,77,78,85,86,87,88,89,90,97,98,99,100,101,102,109,110,111,112,113,114,121,122,123,124,125,126,133,134,135,136,137,138,145,147,148,149,150,157,158,159,160,161,162,169,171,172,173,174) have mixed types.Specify dtype option on import or set low_memory=False.\n",
      "  import sys\n"
     ]
    },
    {
     "name": "stdout",
     "output_type": "stream",
     "text": [
      "Pickling data: DONE\n",
      "Loading Dataset from the pandas input...\n",
      "Beginning Processing...\n",
      "There are 82809 drug target pairs.\n",
      "Default set to logspace (nM -> p) for easier regression\n"
     ]
    }
   ],
   "source": [
    "from DeepPurpose import dataset\n",
    "from tutorials.utils import BindingDB\n",
    "import pandas as pd\n",
    "\n",
    "# download data\n",
    "data_dir = \"./data\"\n",
    "BindingDB.download(data_dir)\n",
    "\n",
    "# load data\n",
    "data_path = \"./data/BindingDB_All.pkl\"\n",
    "df = pd.read_pickle(data_path)\n",
    "X_drugs, X_targets, y = dataset.process_BindingDB(\n",
    "    path=data_path, df=df, y=\"Kd\", binary=False, convert_to_log=True, threshold=30\n",
    ")"
   ]
  },
  {
   "cell_type": "markdown",
   "metadata": {},
   "source": [
    "This function reads the file and after some processing returns three arrays of the same length. `X_drugs` contains Ligand SMILES strings, `X_targets` contains target sequence (Amino Acid code sequence) strings, and `y` contains the labels, in this case $K_{D}$, followed by conversion to logarithmic scale: $y = -log_{10}\\left( K_{D} \\cdot 10^{-9} \\right)$.\n",
    "\n",
    "The processing function of DeepPurpose is very simple. Let's explain most of what it does after reading the whole file of ~2.4M rows:\n",
    "1. Remove targets with more than one protein chain (multichain complex). This leaves about ~2.3M rows.\n",
    "2. Keep only rows in which the $K_{D}$ measurement exists. This leaves only \\~94,000 rows. For comparison, setting to $IC50$ would leave \\~1.4M rows, setting to $K_{i}$ would leave ~500k, and setting to $EC50$ would leave 200k.\n",
    "We can think about how to correctly combine more than one choice. \n",
    "3. Some $K_{D}$ values contain '<' or '>' sign, they just remove the sign and keep the number. (Is it okay? not sure)\n",
    "4. Remove samples with $K_{D}$ larger than $10^7 [nM]$. (Larger values are not good drug candidates?). This left ~83k rows.\n",
    "5. Convert units $[nm] -> [p]$.\n",
    "    $y = -log_{10}\\left( K_{D} \\cdot 10^{-9} \\right)$"
   ]
  },
  {
   "cell_type": "code",
   "execution_count": 2,
   "metadata": {},
   "outputs": [
    {
     "name": "stdout",
     "output_type": "stream",
     "text": [
      "length of X_target: 82809, X_drugs: 82809, y: 82809\n",
      "minimum label: 2.0, maximum label: 15.0\n",
      "Random example:\n",
      "Target sequence:\n",
      " MSNVPHKSSLPEGIRPGTVLRIRGLVPPNASRFHVNLLCGEEQGSDAALHFNPRLDTSEVVFNSKEQGSWGREERGPGVPFQRGQPFEVLIIASDDGFKAVVGDAQYHHFRHRLPLARVRLVEVGGDVQLDSVRIF\n",
      "Ligand SMILES string:\n",
      " CO[C@@H]1O[C@H](CO)[C@@H](O[C@@H]2O[C@H](CO)[C@H](O)[C@H](NC(=S)NC3CCCCC3)[C@H]2O)[C@H](O)[C@H]1NC(C)=O\n",
      "Label (binding affinity), -log(Kd*1e9): 4.619788758288394\n"
     ]
    }
   ],
   "source": [
    "print(f\"length of X_target: {len(X_targets)}, X_drugs: {len(X_drugs)}, y: {len(y)}\")\n",
    "print(f\"minimum label: {y.min()}, maximum label: {y.max()}\")\n",
    "\n",
    "print(f\"Random example:\")\n",
    "print(f\"Target sequence:\\n {X_targets[200]}\")\n",
    "print(f\"Ligand SMILES string:\\n {X_drugs[200]}\")\n",
    "print(f\"Label (binding affinity), -log(Kd*1e9): {y[200]}\")"
   ]
  },
  {
   "cell_type": "markdown",
   "metadata": {},
   "source": [
    "## DTI prediction\n",
    "[This](https://github.com/kexinhuang12345/DeepPurpose/blob/master/Tutorial_1_DTI_Prediction.ipynb) tutorial by DeepPurpose demonstrates how the library can be used to train affinity prediction models, given data in the format above (drug-target string sequence pairs with corresponding affinity labels), and use them for drug screening and repurposing."
   ]
  },
  {
   "cell_type": "markdown",
   "metadata": {},
   "source": [
    "## Benchmarks / Leader boards\n",
    "\n",
    "[Therapeutics Data Commons](https://tdcommons.ai) has a [benchmark](https://tdcommons.ai/benchmark/dti_dg_group/bindingdb_patent/) defined for Drug-Target Interaction (DTI) based on BindingDB. They point out a problem with existing ML models in which the test set contains unseen compound-target pairs, but individually the targets and compounds are seen during training.  \n",
    "In practice pharma companies screen new targets and compounds over the years, so it is desirable that models can generalize to this shift.  \n",
    "In this benchmark they use patented DTI data, and use years 2013-2018 for training and 2019-2021 for testing.\n",
    "\n"
   ]
  },
  {
   "cell_type": "markdown",
   "metadata": {},
   "source": []
  }
 ],
 "metadata": {
  "kernelspec": {
   "display_name": "Python 3",
   "language": "python",
   "name": "python3"
  },
  "language_info": {
   "codemirror_mode": {
    "name": "ipython",
    "version": 3
   },
   "file_extension": ".py",
   "mimetype": "text/x-python",
   "name": "python",
   "nbconvert_exporter": "python",
   "pygments_lexer": "ipython3",
   "version": "3.6.8 (default, Oct 20 2022, 09:31:56) \n[GCC 8.5.0 20210514 (Red Hat 8.5.0-15)]"
  },
  "vscode": {
   "interpreter": {
    "hash": "e7370f93d1d0cde622a1f8e1c04877d8463912d04d973331ad4851f04de6915a"
   }
  }
 },
 "nbformat": 4,
 "nbformat_minor": 2
}
